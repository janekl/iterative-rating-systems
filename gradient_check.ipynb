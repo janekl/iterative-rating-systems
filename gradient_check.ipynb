{
 "cells": [
  {
   "cell_type": "markdown",
   "metadata": {},
   "source": [
    "## Gradient check\n",
    "\n",
    "This notebook verifies whether analytical and numerical gradiends for log-likelihood functions derived in `rating_models.py` for iterative model versions are matching. Input values for log-likelihood are sampled randomly."
   ]
  },
  {
   "cell_type": "code",
   "execution_count": null,
   "metadata": {},
   "outputs": [],
   "source": [
    "import numpy as np\n",
    "from rating_models import IterativeOLR\n",
    "from scipy.special import expit as logistic"
   ]
  },
  {
   "cell_type": "markdown",
   "metadata": {},
   "source": [
    "### Elo model"
   ]
  },
  {
   "cell_type": "code",
   "execution_count": null,
   "metadata": {},
   "outputs": [],
   "source": [
    "def log_lik_elo(r1, r2, res):\n",
    "    r_diff = r1 - r2\n",
    "    return res * np.log(logistic(-r_diff)) + (1 - res) * np.log((1 - logistic(-r_diff)))"
   ]
  },
  {
   "cell_type": "code",
   "execution_count": null,
   "metadata": {},
   "outputs": [],
   "source": [
    "def grad_log_lik_elo_exact(r1, r2, res):\n",
    "    r_diff = r1 - r2\n",
    "    p1 = logistic(-r_diff)\n",
    "    grad = p1 - res\n",
    "    return (-grad, grad)"
   ]
  },
  {
   "cell_type": "code",
   "execution_count": null,
   "metadata": {},
   "outputs": [],
   "source": [
    "def grad_log_lik_elo_approx(r1, r2, res, eps=1e-8):\n",
    "    dr1 = (log_lik_elo(r1, r2+eps, res) - log_lik_elo(r1, r2-eps, res)) / (2 * eps)\n",
    "    dr2 = (log_lik_elo(r1+eps, r2, res) - log_lik_elo(r1-eps, r2, res)) / (2 * eps)\n",
    "    return (dr1, dr2)"
   ]
  },
  {
   "cell_type": "code",
   "execution_count": null,
   "metadata": {},
   "outputs": [],
   "source": [
    "res = np.random.choice([0, 0.5, 1])\n",
    "r1, r2 = np.random.normal(size=2)\n",
    "r1, r2, res"
   ]
  },
  {
   "cell_type": "code",
   "execution_count": null,
   "metadata": {},
   "outputs": [],
   "source": [
    "grad_log_lik_elo_exact(r1, r2, res)"
   ]
  },
  {
   "cell_type": "code",
   "execution_count": null,
   "metadata": {},
   "outputs": [],
   "source": [
    "grad_log_lik_elo_approx(r1, r2, res, eps=1e-8)"
   ]
  },
  {
   "cell_type": "markdown",
   "metadata": {},
   "source": [
    "### OLR model"
   ]
  },
  {
   "cell_type": "code",
   "execution_count": null,
   "metadata": {},
   "outputs": [],
   "source": [
    "def compute_prob(r1, r2, c, h):\n",
    "    d = r1 - r2 + h\n",
    "    return (logistic(-c + d), logistic(c + d) - logistic(-c + d), 1 - logistic(c + d))"
   ]
  },
  {
   "cell_type": "code",
   "execution_count": null,
   "metadata": {},
   "outputs": [],
   "source": [
    "def log_lik(r1, r2, res, c, h):\n",
    "    prob = compute_prob(r1, r2, c, h)\n",
    "    return np.log(prob[res])"
   ]
  },
  {
   "cell_type": "code",
   "execution_count": null,
   "metadata": {},
   "outputs": [],
   "source": [
    "def grad_log_lik_olr_exact(r1, r2, res, c, h):\n",
    "    prob = compute_prob(r1, r2, c, h)\n",
    "    grad = IterativeOLR.get_update(None, res, prob)\n",
    "    return (-grad, grad)"
   ]
  },
  {
   "cell_type": "code",
   "execution_count": null,
   "metadata": {},
   "outputs": [],
   "source": [
    "def grad_log_lik_olr_approx(r1, r2, res, c, h, eps=1e-8):\n",
    "    dr1 = (log_lik(r1, r2+eps, res, c=c, h=h) - log_lik(r1, r2-eps, res, c=c, h=h)) / (2 * eps)\n",
    "    dr2 = (log_lik(r1+eps, r2, res, c=c, h=h) - log_lik(r1-eps, r2, res, c=c, h=h)) / (2 * eps)\n",
    "    return (dr1, dr2)"
   ]
  },
  {
   "cell_type": "code",
   "execution_count": null,
   "metadata": {},
   "outputs": [],
   "source": [
    "h = 0.3\n",
    "c = 0.6\n",
    "res = np.random.randint(3)\n",
    "r1, r2 = np.random.normal(size=2)\n",
    "r1, r2, res"
   ]
  },
  {
   "cell_type": "code",
   "execution_count": null,
   "metadata": {},
   "outputs": [],
   "source": [
    "grad_log_lik_olr_exact(r1, r2, res=res, c=c, h=h)"
   ]
  },
  {
   "cell_type": "code",
   "execution_count": null,
   "metadata": {},
   "outputs": [],
   "source": [
    "grad_log_lik_olr_approx(r1, r2, res=res, c=c, h=h, eps=1e-8)"
   ]
  },
  {
   "cell_type": "markdown",
   "metadata": {},
   "source": [
    "### Single Poisson model"
   ]
  },
  {
   "cell_type": "code",
   "execution_count": null,
   "metadata": {},
   "outputs": [],
   "source": [
    "def log_lik_pois1(r1, r2, c, h, g1, g2):\n",
    "    xb1 = c + r1 - r2 + h\n",
    "    xb2 = c + r2 - r1\n",
    "    #-np.sum((y * Xb - np.exp(Xb)\n",
    "    return g1 * xb1 - np.exp(xb1) + g2 * xb2 - np.exp(xb2)"
   ]
  },
  {
   "cell_type": "code",
   "execution_count": null,
   "metadata": {},
   "outputs": [],
   "source": [
    "def grad_log_lik2_pois1_exact(r1, r2, c, h, g1, g2):\n",
    "    margin_diff = (g1 - g2) - (np.exp(c + r1 - r2 + h) - np.exp(c + r2 - r1))\n",
    "    return (-margin_diff, margin_diff)"
   ]
  },
  {
   "cell_type": "code",
   "execution_count": null,
   "metadata": {},
   "outputs": [],
   "source": [
    "def grad_log_lik_pois1_approx(r1, r2, c, h, g1, g2, eps=1e-8):\n",
    "    dr1 = (log_lik_pois1(r1, r2+eps, c, h, g1, g2) - log_lik_pois1(r1, r2-eps, c, h, g1, g2)) / (2 * eps)\n",
    "    dr2 = (log_lik_pois1(r1+eps, r2, c, h, g1, g2) - log_lik_pois1(r1-eps, r2, c, h, g1, g2)) / (2 * eps)\n",
    "    return (dr1, dr2)"
   ]
  },
  {
   "cell_type": "code",
   "execution_count": null,
   "metadata": {},
   "outputs": [],
   "source": [
    "h = 0.3\n",
    "c = 0.02\n",
    "g1, g2 = np.random.poisson(lam=2.7, size=2)\n",
    "r1, r2 = np.random.normal(scale=0.25, size=2)\n",
    "r1, r2, g1, g2"
   ]
  },
  {
   "cell_type": "code",
   "execution_count": null,
   "metadata": {},
   "outputs": [],
   "source": [
    "grad_log_lik2_pois1_exact(r1, r2, c, h, g1, g2)"
   ]
  },
  {
   "cell_type": "code",
   "execution_count": null,
   "metadata": {},
   "outputs": [],
   "source": [
    "grad_log_lik_pois1_approx(r1, r2, c, h, g1, g2)"
   ]
  },
  {
   "cell_type": "markdown",
   "metadata": {},
   "source": [
    "### Double Poisson model"
   ]
  },
  {
   "cell_type": "code",
   "execution_count": null,
   "metadata": {},
   "outputs": [],
   "source": [
    "def log_lik_pois2(a1, a2, d1, d2, c, h, g1, g2):\n",
    "    xb1 = c + a1 - d2 + h\n",
    "    xb2 = c + a2 - d1\n",
    "    return g1 * xb1 - np.exp(xb1) + g2 * xb2 - np.exp(xb2)"
   ]
  },
  {
   "cell_type": "code",
   "execution_count": null,
   "metadata": {},
   "outputs": [],
   "source": [
    "def grad_log_lik_pois2_exact2(a1, a2, d1, d2, c, h, g1, g2):\n",
    "    margin_diff = (g1 - g2) - (np.exp(c + r1 - r2 + h) - np.exp(c + r2 - r1))\n",
    "    mu1 = np.exp(c + a1 - d2 + h)\n",
    "    mu2 = np.exp(c + a2 - d1)\n",
    "    return (g1 - mu1, mu2 - g2, g2 - mu2, mu1 - g1)"
   ]
  },
  {
   "cell_type": "code",
   "execution_count": null,
   "metadata": {},
   "outputs": [],
   "source": [
    "def grad_log_lik_pois2_approx(a1, a2, d1, d2, c, h, g1, g2, eps=1e-8):\n",
    "    da1 = (log_lik_pois2(a1+eps, a2, d1, d2, c, h, g1, g2) - log_lik_pois2(a1-eps, a2, d1, d2, c, h, g1, g2)) / (2 * eps)\n",
    "    dd1 = (log_lik_pois2(a1, a2, d1+eps, d2, c, h, g1, g2) - log_lik_pois2(a1, a2, d1-eps, d2, c, h, g1, g2)) / (2 * eps)\n",
    "    da2 = (log_lik_pois2(a1, a2+eps, d1, d2, c, h, g1, g2) - log_lik_pois2(a1, a2-eps, d1, d2, c, h, g1, g2)) / (2 * eps)\n",
    "    dd2 = (log_lik_pois2(a1, a2, d1, d2+eps, c, h, g1, g2) - log_lik_pois2(a1, a2, d1, d2-eps, c, h, g1, g2)) / (2 * eps)\n",
    "    return (da1, dd1, da2, dd2)"
   ]
  },
  {
   "cell_type": "code",
   "execution_count": null,
   "metadata": {},
   "outputs": [],
   "source": [
    "h = 0.3\n",
    "c = 0.02\n",
    "g1, g2 = np.random.poisson(lam=2.7, size=2)\n",
    "a1, a2, d1, d2 = np.random.normal(scale=0.25, size=4)\n",
    "a1, a2, d1, d2, g1, g2"
   ]
  },
  {
   "cell_type": "code",
   "execution_count": null,
   "metadata": {},
   "outputs": [],
   "source": [
    "grad_log_lik_pois2_exact2(a1, a2, d1, d2, c, h, g1, g2)"
   ]
  },
  {
   "cell_type": "code",
   "execution_count": null,
   "metadata": {},
   "outputs": [],
   "source": [
    "grad_log_lik_pois2_approx(a1, a2, d1, d2, c, h, g1, g2, eps=1e-8)"
   ]
  },
  {
   "cell_type": "code",
   "execution_count": null,
   "metadata": {},
   "outputs": [],
   "source": []
  }
 ],
 "metadata": {
  "kernelspec": {
   "display_name": "Python 3",
   "language": "python",
   "name": "python3"
  },
  "language_info": {
   "codemirror_mode": {
    "name": "ipython",
    "version": 3
   },
   "file_extension": ".py",
   "mimetype": "text/x-python",
   "name": "python",
   "nbconvert_exporter": "python",
   "pygments_lexer": "ipython3",
   "version": "3.5.6"
  }
 },
 "nbformat": 4,
 "nbformat_minor": 2
}
